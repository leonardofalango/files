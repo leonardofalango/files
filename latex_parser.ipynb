{
  "nbformat": 4,
  "nbformat_minor": 0,
  "metadata": {
    "colab": {
      "provenance": [],
      "toc_visible": true,
      "authorship_tag": "ABX9TyOyEUPi84dsPUTFZrmzH1uP",
      "include_colab_link": true
    },
    "kernelspec": {
      "name": "python3",
      "display_name": "Python 3"
    },
    "language_info": {
      "name": "python"
    }
  },
  "cells": [
    {
      "cell_type": "markdown",
      "metadata": {
        "id": "view-in-github",
        "colab_type": "text"
      },
      "source": [
        "<a href=\"https://colab.research.google.com/github/leonardofalango/files/blob/main/latex_parser.ipynb\" target=\"_parent\"><img src=\"https://colab.research.google.com/assets/colab-badge.svg\" alt=\"Open In Colab\"/></a>"
      ]
    },
    {
      "cell_type": "code",
      "execution_count": 54,
      "metadata": {
        "colab": {
          "base_uri": "https://localhost:8080/"
        },
        "id": "43u3YSeDdHC2",
        "outputId": "cef11795-4372-4da3-99e3-75997d128dc9"
      },
      "outputs": [
        {
          "output_type": "stream",
          "name": "stdout",
          "text": [
            "--2025-04-23 17:04:55--  https://raw.githubusercontent.com/leonardofalango/files/refs/heads/main/latex_parser/val1.txt\n",
            "Resolving raw.githubusercontent.com (raw.githubusercontent.com)... 185.199.108.133, 185.199.109.133, 185.199.110.133, ...\n",
            "Connecting to raw.githubusercontent.com (raw.githubusercontent.com)|185.199.108.133|:443... connected.\n",
            "HTTP request sent, awaiting response... 200 OK\n",
            "Length: 59 [text/plain]\n",
            "Saving to: ‘val1.txt’\n",
            "\n",
            "val1.txt            100%[===================>]      59  --.-KB/s    in 0s      \n",
            "\n",
            "2025-04-23 17:04:56 (1.05 MB/s) - ‘val1.txt’ saved [59/59]\n",
            "\n",
            "--2025-04-23 17:04:56--  https://raw.githubusercontent.com/leonardofalango/files/refs/heads/main/latex_parser/val2.txt\n",
            "Resolving raw.githubusercontent.com (raw.githubusercontent.com)... 185.199.109.133, 185.199.110.133, 185.199.111.133, ...\n",
            "Connecting to raw.githubusercontent.com (raw.githubusercontent.com)|185.199.109.133|:443... connected.\n",
            "HTTP request sent, awaiting response... 200 OK\n",
            "Length: 45 [text/plain]\n",
            "Saving to: ‘val2.txt’\n",
            "\n",
            "val2.txt            100%[===================>]      45  --.-KB/s    in 0s      \n",
            "\n",
            "2025-04-23 17:04:56 (424 KB/s) - ‘val2.txt’ saved [45/45]\n",
            "\n",
            "--2025-04-23 17:04:56--  https://raw.githubusercontent.com/leonardofalango/files/refs/heads/main/latex_parser/val3.txt\n",
            "Resolving raw.githubusercontent.com (raw.githubusercontent.com)... 185.199.109.133, 185.199.110.133, 185.199.111.133, ...\n",
            "Connecting to raw.githubusercontent.com (raw.githubusercontent.com)|185.199.109.133|:443... connected.\n",
            "HTTP request sent, awaiting response... 200 OK\n",
            "Length: 291 [text/plain]\n",
            "Saving to: ‘val3.txt’\n",
            "\n",
            "val3.txt            100%[===================>]     291  --.-KB/s    in 0s      \n",
            "\n",
            "2025-04-23 17:04:57 (2.47 MB/s) - ‘val3.txt’ saved [291/291]\n",
            "\n"
          ]
        }
      ],
      "source": [
        "# Install dependencies\n",
        "\n",
        "import typing\n",
        "import collections\n",
        "\n",
        "# Donwload Files to test\n",
        "!cd /content\n",
        "!rm -rf test_data\n",
        "!mkdir test_data\n",
        "!cd test_data && wget https://raw.githubusercontent.com/leonardofalango/files/refs/heads/main/latex_parser/val1.txt\n",
        "!cd test_data && wget https://raw.githubusercontent.com/leonardofalango/files/refs/heads/main/latex_parser/val2.txt\n",
        "!cd test_data && wget https://raw.githubusercontent.com/leonardofalango/files/refs/heads/main/latex_parser/val3.txt"
      ]
    },
    {
      "cell_type": "code",
      "source": [
        "# Check if files were downloaded\n",
        "!ls test_data"
      ],
      "metadata": {
        "colab": {
          "base_uri": "https://localhost:8080/"
        },
        "id": "Opuz6NHPfSO8",
        "outputId": "c71b9989-8568-4cfc-ba6e-0549e85f0927"
      },
      "execution_count": 55,
      "outputs": [
        {
          "output_type": "stream",
          "name": "stdout",
          "text": [
            "val1.txt  val2.txt  val3.txt\n"
          ]
        }
      ]
    },
    {
      "cell_type": "markdown",
      "source": [
        "# Lexer"
      ],
      "metadata": {
        "id": "Q3I7B1OlgJ9g"
      }
    },
    {
      "cell_type": "code",
      "source": [
        "import re\n",
        "\n",
        "# Tokens\n",
        "TOKEN_REGEX = [\n",
        "  ('CONSTANTE', r'\\btrue\\b|\\bfalse\\b'),\n",
        "  ('OPERADORUNARIO', r'\\\\neg'),\n",
        "  ('OPERADORBINARIO', r'\\\\wedge|\\\\vee|\\\\rightarrow|\\\\leftrightarrow'),\n",
        "  ('ABREPAREN', r'\\('),\n",
        "  ('FECHAPAREN', r'\\)'),\n",
        "  ('PROPOSICAO', r'\\b[0-9][0-9a-z]*\\b'),\n",
        "  ('ESPACO', r'\\s+'),\n",
        "]\n",
        "\n",
        "class Token:\n",
        "  def __init__(self, tipo : str, value : typing.Any):\n",
        "    self.tipo = tipo\n",
        "    self.value = value\n",
        "\n",
        "  # For printing\n",
        "  def __repr__(self):\n",
        "    return f'Token({self.tipo}, {repr(self.value)})'\n",
        "\n",
        "def lexer(exp : str):\n",
        "  tokens = []\n",
        "  pos = 0\n",
        "  while pos < len(exp):\n",
        "    match = None\n",
        "    for token_type, regex in TOKEN_REGEX:\n",
        "      pattern = re.compile(regex)\n",
        "      match = pattern.match(exp, pos)\n",
        "      if match:\n",
        "        if token_type != 'ESPACO':\n",
        "            valor = match.group(0)\n",
        "            tokens.append(Token(token_type, valor))\n",
        "        pos = match.end()\n",
        "        break\n",
        "    if not match:\n",
        "      raise SyntaxError(f'Token inválido na posição {pos}: {exp[pos]}')\n",
        "  return tokens\n"
      ],
      "metadata": {
        "id": "8QoAD_zEgIj8"
      },
      "execution_count": 140,
      "outputs": []
    },
    {
      "cell_type": "code",
      "source": [
        "# Testing lexer\n",
        "exp = r\"(\\wedge 1x true)\"\n",
        "tokens = lexer(exp)\n",
        "for t in tokens:\n",
        "    print(t)"
      ],
      "metadata": {
        "colab": {
          "base_uri": "https://localhost:8080/"
        },
        "id": "dw4jgajUgrLk",
        "outputId": "b16c7182-8eec-4dfd-93d1-9fff4ca6a359"
      },
      "execution_count": 141,
      "outputs": [
        {
          "output_type": "stream",
          "name": "stdout",
          "text": [
            "Token(ABREPAREN, '(')\n",
            "Token(OPERADORBINARIO, '\\\\wedge')\n",
            "Token(PROPOSICAO, '1x')\n",
            "Token(CONSTANTE, 'true')\n",
            "Token(FECHAPAREN, ')')\n"
          ]
        }
      ]
    },
    {
      "cell_type": "markdown",
      "source": [
        "# Parser"
      ],
      "metadata": {
        "id": "TYFwdivXhIxs"
      }
    },
    {
      "cell_type": "code",
      "source": [
        "class Parser:\n",
        "  def __init__(self, tokens : typing.List[Token]):\n",
        "    self.tokens = tokens # Tokens by lexer\n",
        "    self.pos = 0\n",
        "    self.current : Token = self.tokens[self.pos] if self.tokens else None\n",
        "\n",
        "  # Next token\n",
        "  def advance(self):\n",
        "      self.pos += 1\n",
        "      self.current = self.tokens[self.pos] if self.pos < len(self.tokens) else None\n",
        "\n",
        "  # Match token with token_type (tipo)\n",
        "  def match(self, expected_type : str):\n",
        "    if self.current and self.current.tipo == expected_type:\n",
        "        self.advance()\n",
        "    else:\n",
        "        raise SyntaxError(f'Esperado {expected_type}, mas encontrou {self.current}')\n",
        "\n",
        "  # Parse method to expr\n",
        "  def parse(self):\n",
        "    self.formula()\n",
        "    if self.current is not None:\n",
        "        raise SyntaxError(f'Tokens restantes: {self.current}')\n",
        "\n",
        "  # FORMULA = CONSTANTE | PROPOSICAO | FORMULAUNARIA | FORMULABINARIA\n",
        "  def formula(self):\n",
        "    if self.current.tipo in ['CONSTANTE', 'PROPOSICAO']:\n",
        "        self.advance()\n",
        "    elif self.current.tipo == 'ABREPAREN':\n",
        "        self.advance()\n",
        "        if self.current.tipo == 'OPERADORUNARIO':\n",
        "            self.formula_unaria()\n",
        "        elif self.current.tipo == 'OPERADORBINARIO':\n",
        "            self.formula_binaria()\n",
        "        else:\n",
        "            raise SyntaxError(f'Esperado operador após \"(\", encontrou: {self.current}')\n",
        "    else:\n",
        "        raise SyntaxError(f'Expressão mal formada, encontrou: {self.current}')\n",
        "\n",
        "  # FORMULAUNARIA = ABREPAREN OPERADORUNARIO FORMULA FECHAPAREN\n",
        "  def formula_unaria(self):\n",
        "    self.match('OPERADORUNARIO')\n",
        "    self.formula()\n",
        "    self.match('FECHAPAREN')\n",
        "\n",
        "  # FORMULABINARIA = ABREPAREN OPERADORBINARIO FORMULA FORMULA FECHAPAREN\n",
        "  def formula_binaria(self):\n",
        "    self.match('OPERADORBINARIO')\n",
        "    self.formula()\n",
        "    self.formula()\n",
        "    self.match('FECHAPAREN')"
      ],
      "metadata": {
        "id": "_kHmkvjYhLez"
      },
      "execution_count": 36,
      "outputs": []
    },
    {
      "cell_type": "code",
      "source": [
        "# Testing\n",
        "\n",
        "def is_valid(expr: str):\n",
        "  try:\n",
        "      tokens = lexer(expr) # Getting tokens\n",
        "      parser = Parser(tokens)\n",
        "      parser.parse() # Validating tokens\n",
        "      return True\n",
        "  except SyntaxError:\n",
        "      return False\n",
        "\n",
        "# Formating the ouput\n",
        "def validate(expr: str):\n",
        "  return \"válida\" if is_valid(expr) else \"inválida\"\n",
        "\n",
        "exp = r\"(\\wedge 1x true)\"\n",
        "print(is_valid(exp))\n",
        "exp = r\"(\\wedge (1x true)\"\n",
        "print(is_valid(exp))"
      ],
      "metadata": {
        "colab": {
          "base_uri": "https://localhost:8080/"
        },
        "id": "SZMszYCSii-Z",
        "outputId": "5e5569a7-dc0b-4054-fc4c-8aaec635eef0"
      },
      "execution_count": 124,
      "outputs": [
        {
          "output_type": "stream",
          "name": "stdout",
          "text": [
            "True\n",
            "False\n"
          ]
        }
      ]
    },
    {
      "cell_type": "markdown",
      "source": [
        "# Testing"
      ],
      "metadata": {
        "id": "UhvQK0z-kGJk"
      }
    },
    {
      "cell_type": "code",
      "source": [
        "# Foreach testing file, foreach line use validate(line)\n",
        "def parse_file(filepath: str):\n",
        "  # Open and read the file\n",
        "  with open(filepath, \"r\") as f:\n",
        "    # verify if the file is valid\n",
        "    n_formulas = int(f.readline())\n",
        "    print(f\"Arquivo: {filepath} Quantidade de validações: {n_formulas}\")\n",
        "\n",
        "    # read all lines\n",
        "    lines = f.readlines()\n",
        "    if n_formulas != len(lines):\n",
        "      raise Exception(\"Arquivo contendo conteudo inválido, quantidade de validações não bate com a quantidade de linhas\")\n",
        "\n",
        "    # foreach formula validade\n",
        "    for i in range(n_formulas):\n",
        "      line = lines[i].strip()\n",
        "      p = validate(line)\n",
        "      print(f\"[{p:<{8}}] Expressão: {line}\")"
      ],
      "metadata": {
        "id": "UBzpVhLykIjs"
      },
      "execution_count": 101,
      "outputs": []
    },
    {
      "cell_type": "code",
      "source": [
        "# Test file 1\n",
        "filepath = \"test_data/val1.txt\"\n",
        "parse_file(filepath=filepath)"
      ],
      "metadata": {
        "colab": {
          "base_uri": "https://localhost:8080/"
        },
        "id": "7rIzTqisqV2c",
        "outputId": "5b469bdf-e39f-4d88-eabd-d6615f81b956"
      },
      "execution_count": 114,
      "outputs": [
        {
          "output_type": "stream",
          "name": "stdout",
          "text": [
            "Arquivo: test_data/val1.txt Quantidade de validações: 4\n",
            "[válida  ] Expressão: (\\neg true)\n",
            "[inválida] Expressão: (\\wedge a1 3b)\n",
            "[inválida] Expressão: (\\neg)\n",
            "[válida  ] Expressão: (\\vee (\\neg 0x) false)\n"
          ]
        }
      ]
    },
    {
      "cell_type": "code",
      "source": [
        "# Test file 2\n",
        "filepath = \"test_data/val2.txt\"\n",
        "parse_file(filepath=filepath)"
      ],
      "metadata": {
        "colab": {
          "base_uri": "https://localhost:8080/"
        },
        "id": "9KqhLSz3qeH5",
        "outputId": "b3f36389-39fe-412d-f252-f7ed97a44f69"
      },
      "execution_count": 103,
      "outputs": [
        {
          "output_type": "stream",
          "name": "stdout",
          "text": [
            "Arquivo: test_data/val2.txt Quantidade de validações: 3\n",
            "[válida  ] Expressão: (\\neg (\\wedge true false))\n",
            "[inválida] Expressão: (p1)\n",
            "[válida  ] Expressão: (\\neg true)\n"
          ]
        }
      ]
    },
    {
      "cell_type": "code",
      "source": [
        "# Test file 3\n",
        "filepath = \"test_data/val3.txt\"\n",
        "parse_file(filepath=filepath)"
      ],
      "metadata": {
        "colab": {
          "base_uri": "https://localhost:8080/"
        },
        "id": "FQCiBuZdqnDj",
        "outputId": "cead1d4f-0a4e-46be-9843-c2faec18c334"
      },
      "execution_count": 113,
      "outputs": [
        {
          "output_type": "stream",
          "name": "stdout",
          "text": [
            "Arquivo: test_data/val3.txt Quantidade de validações: 8\n",
            "[inválida] Expressão: (\\rightarrow (\\neg false) (\\wedge 1a a2))\n",
            "[inválida] Expressão: (\\leftrightarrow (\\vee a1 b2) (\\neg 9z))\n",
            "[válida  ] Expressão: (\\wedge (\\neg (\\neg true)) (\\vee 0x false))\n",
            "[inválida] Expressão: (\\leftrightarrow (\\neg (\\wedge true false)) (\\vee x9 y8))\n",
            "[inválida] Expressão: (\\rightarrow (\\vee p1) q1)\n",
            "[válida  ] Expressão: (\\leftrightarrow true false)\n",
            "[inválida] Expressão: (\\wedge (\\neg true) (\\vee))\n",
            "[inválida] Expressão: (\\vee (\\vee a1 b1))\n"
          ]
        }
      ]
    },
    {
      "cell_type": "markdown",
      "source": [
        "$(\\neg (\\wedge (\\vee (\\rightarrow 1a 1b) (\\wedge true 2a)) 3z))$"
      ],
      "metadata": {
        "id": "n7BnCRVGzAJ5"
      }
    },
    {
      "cell_type": "code",
      "source": [
        "is_valid(r'(\\neg (\\wedge (\\vee (\\rightarrow 1a 1b) (\\wedge true 2a)) 3z))')"
      ],
      "metadata": {
        "colab": {
          "base_uri": "https://localhost:8080/"
        },
        "id": "gE3hjaJeyVXM",
        "outputId": "4722c194-2b91-42d3-d8fb-ae2f785061f2"
      },
      "execution_count": 146,
      "outputs": [
        {
          "output_type": "execute_result",
          "data": {
            "text/plain": [
              "True"
            ]
          },
          "metadata": {},
          "execution_count": 146
        }
      ]
    },
    {
      "cell_type": "code",
      "source": [],
      "metadata": {
        "id": "KtBY1dDTzIyU"
      },
      "execution_count": null,
      "outputs": []
    }
  ]
}